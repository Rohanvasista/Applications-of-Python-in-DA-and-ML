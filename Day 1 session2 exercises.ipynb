{
  "nbformat": 4,
  "nbformat_minor": 0,
  "metadata": {
    "colab": {
      "name": "Untitled4.ipynb",
      "provenance": [],
      "collapsed_sections": [],
      "authorship_tag": "ABX9TyNc6Ho1YIiyoLaNchiDBGFq",
      "include_colab_link": true
    },
    "kernelspec": {
      "name": "python3",
      "display_name": "Python 3"
    }
  },
  "cells": [
    {
      "cell_type": "markdown",
      "metadata": {
        "id": "view-in-github",
        "colab_type": "text"
      },
      "source": [
        "<a href=\"https://colab.research.google.com/github/Rohanvasista/Applications-of-Python-in-DA-and-ML/blob/master/Day%201%20session2%20exercises.ipynb\" target=\"_parent\"><img src=\"https://colab.research.google.com/assets/colab-badge.svg\" alt=\"Open In Colab\"/></a>"
      ]
    },
    {
      "cell_type": "code",
      "metadata": {
        "id": "uHS4__pd51kk",
        "colab_type": "code",
        "colab": {}
      },
      "source": [
        ""
      ],
      "execution_count": 0,
      "outputs": []
    },
    {
      "cell_type": "markdown",
      "metadata": {
        "id": "6XQhkDpP5-tT",
        "colab_type": "text"
      },
      "source": [
        "1.**Write a program to print the triangle**"
      ]
    },
    {
      "cell_type": "code",
      "metadata": {
        "id": "C-6jMa_a6D4o",
        "colab_type": "code",
        "colab": {
          "base_uri": "https://localhost:8080/",
          "height": 101
        },
        "outputId": "f7b26854-ac0d-4995-afce-ba898127f414"
      },
      "source": [
        "n = 5\n",
        "for i in range(0,n):\n",
        "  for j in range(i,i+i,1):\n",
        "    print(j,end=\" \")\n",
        "  print()"
      ],
      "execution_count": 1,
      "outputs": [
        {
          "output_type": "stream",
          "text": [
            "\n",
            "1 \n",
            "2 3 \n",
            "3 4 5 \n",
            "4 5 6 7 \n"
          ],
          "name": "stdout"
        }
      ]
    },
    {
      "cell_type": "markdown",
      "metadata": {
        "id": "sjlNFw3a6Mpr",
        "colab_type": "text"
      },
      "source": [
        "2 **Enter number 4**"
      ]
    },
    {
      "cell_type": "code",
      "metadata": {
        "id": "1Rg3YQV16h4S",
        "colab_type": "code",
        "colab": {
          "base_uri": "https://localhost:8080/",
          "height": 118
        },
        "outputId": "9382f211-ea22-40f2-fbca-a9316abc7a3a"
      },
      "source": [
        "\n",
        "def pyramid(n):\n",
        "  num =0\n",
        "  for i in range(0,n+1):\n",
        "    for j in range(0,i):\n",
        "      print(\"*\",end=\" \")\n",
        "    print(\"\\r\")\n",
        "n = int(input(\"Enter the number\"))\n",
        "pyramid(n)"
      ],
      "execution_count": 2,
      "outputs": [
        {
          "output_type": "stream",
          "text": [
            "Enter the number4\n",
            "\n",
            "* \n",
            "* * \n",
            "* * * \n",
            "* * * * \n"
          ],
          "name": "stdout"
        }
      ]
    },
    {
      "cell_type": "markdown",
      "metadata": {
        "id": "RWas8k2w6omz",
        "colab_type": "text"
      },
      "source": [
        "3 **Enter number 5**"
      ]
    },
    {
      "cell_type": "code",
      "metadata": {
        "id": "OjqowCfB6sgu",
        "colab_type": "code",
        "colab": {
          "base_uri": "https://localhost:8080/",
          "height": 101
        },
        "outputId": "f1855714-81fc-4c12-b945-d01ac0e06238"
      },
      "source": [
        "n= 5\n",
        "for i in range(0,n):\n",
        "  for j in range(n-i,n+1,1):\n",
        "    print(j,end=\" \")\n",
        "  print()"
      ],
      "execution_count": 3,
      "outputs": [
        {
          "output_type": "stream",
          "text": [
            "5 \n",
            "4 5 \n",
            "3 4 5 \n",
            "2 3 4 5 \n",
            "1 2 3 4 5 \n"
          ],
          "name": "stdout"
        }
      ]
    },
    {
      "cell_type": "markdown",
      "metadata": {
        "id": "UQAI4ul96wwS",
        "colab_type": "text"
      },
      "source": [
        "4  **Enter number 5**"
      ]
    },
    {
      "cell_type": "code",
      "metadata": {
        "id": "tlE4_Q8M64WH",
        "colab_type": "code",
        "colab": {
          "base_uri": "https://localhost:8080/",
          "height": 118
        },
        "outputId": "06fd4db3-cbc4-4a0d-f935-20602fbe1d6c"
      },
      "source": [
        "n = 5\n",
        "for i in range(0,n+1):\n",
        "  for j in range(n-i,0,-1):\n",
        "    print(j,end=\" \")\n",
        "  print()"
      ],
      "execution_count": 4,
      "outputs": [
        {
          "output_type": "stream",
          "text": [
            "5 4 3 2 1 \n",
            "4 3 2 1 \n",
            "3 2 1 \n",
            "2 1 \n",
            "1 \n",
            "\n"
          ],
          "name": "stdout"
        }
      ]
    },
    {
      "cell_type": "markdown",
      "metadata": {
        "id": "Pos_qERi6-mx",
        "colab_type": "text"
      },
      "source": [
        "5 **Enter number 4**"
      ]
    },
    {
      "cell_type": "code",
      "metadata": {
        "id": "Bub_nGOi7Ar7",
        "colab_type": "code",
        "colab": {
          "base_uri": "https://localhost:8080/",
          "height": 168
        },
        "outputId": "e59ed6e7-7574-4a09-813f-f8673b32051c"
      },
      "source": [
        "n = 5\n",
        "for i in range(1,n+1):\n",
        "  for j in range(i,n+1,1):\n",
        "    print(j,end=\" \")\n",
        "  print()\n",
        "for i in range(1,n):\n",
        "  for j in range(n-i,n+1,1):\n",
        "    print(j,end=\" \")\n",
        "  print()"
      ],
      "execution_count": 5,
      "outputs": [
        {
          "output_type": "stream",
          "text": [
            "1 2 3 4 5 \n",
            "2 3 4 5 \n",
            "3 4 5 \n",
            "4 5 \n",
            "5 \n",
            "4 5 \n",
            "3 4 5 \n",
            "2 3 4 5 \n",
            "1 2 3 4 5 \n"
          ],
          "name": "stdout"
        }
      ]
    },
    {
      "cell_type": "markdown",
      "metadata": {
        "id": "6pYQt3NX7EqZ",
        "colab_type": "text"
      },
      "source": [
        "6 **Find the length of a string without using len functions**"
      ]
    },
    {
      "cell_type": "code",
      "metadata": {
        "id": "3LJmprnF7Ike",
        "colab_type": "code",
        "colab": {
          "base_uri": "https://localhost:8080/",
          "height": 50
        },
        "outputId": "0d47f424-4bee-4e3e-e269-b6e0d3fed291"
      },
      "source": [
        "def length(s):\n",
        "  c = 0\n",
        "  for i in s:\n",
        "    c=c+1\n",
        "  return c\n",
        "s =str(input(\"Enter the string : \"))\n",
        "print(\"The length of string is : \",length(s))"
      ],
      "execution_count": 6,
      "outputs": [
        {
          "output_type": "stream",
          "text": [
            "Enter the string : vasista\n",
            "The length of string is :  7\n"
          ],
          "name": "stdout"
        }
      ]
    },
    {
      "cell_type": "markdown",
      "metadata": {
        "id": "zpPPtBrB7N-8",
        "colab_type": "text"
      },
      "source": [
        "7 **Find the no of words and characters in a string**"
      ]
    },
    {
      "cell_type": "code",
      "metadata": {
        "id": "hA29DQCQ7SAc",
        "colab_type": "code",
        "colab": {
          "base_uri": "https://localhost:8080/",
          "height": 67
        },
        "outputId": "09128ae4-dcd4-4d26-9111-ac5b9b820d6c"
      },
      "source": [
        "\n",
        "def cou(s):\n",
        "  c=0\n",
        "  a = s.split()\n",
        "  v = len(a)\n",
        "  for i in a:\n",
        "    c = c+len(i)\n",
        "  print(\"word count : \",v)\n",
        "  print(\"character count : \",c)\n",
        "s = str(input(\"Enter the string : \"))\n",
        "cou(s)"
      ],
      "execution_count": 7,
      "outputs": [
        {
          "output_type": "stream",
          "text": [
            "Enter the string : vasista\n",
            "word count :  1\n",
            "character count :  7\n"
          ],
          "name": "stdout"
        }
      ]
    },
    {
      "cell_type": "markdown",
      "metadata": {
        "id": "aLwOG1Gm7WlB",
        "colab_type": "text"
      },
      "source": [
        "8 **Find the no of occurrences of a word in a string**"
      ]
    },
    {
      "cell_type": "code",
      "metadata": {
        "id": "1rPSU2jx7cfy",
        "colab_type": "code",
        "colab": {
          "base_uri": "https://localhost:8080/",
          "height": 67
        },
        "outputId": "016b109d-0a82-43bc-c507-4456ef7d0de6"
      },
      "source": [
        "def occur(s):\n",
        "  c =0\n",
        "  a = str(input(\"Enter the word : \"))\n",
        "  w = s.split()\n",
        "  for i in range(0,len(w)):\n",
        "    if(a == w[i]):\n",
        "      c = c+1\n",
        "  return c\n",
        "s = str(input(\"Enter the string : \"))\n",
        "print(\"The number of occurances is : \",occur(s))"
      ],
      "execution_count": 8,
      "outputs": [
        {
          "output_type": "stream",
          "text": [
            "Enter the string : i am rohan vasista\n",
            "Enter the word : rohan\n",
            "The number of occurances is :  1\n"
          ],
          "name": "stdout"
        }
      ]
    }
  ]
}