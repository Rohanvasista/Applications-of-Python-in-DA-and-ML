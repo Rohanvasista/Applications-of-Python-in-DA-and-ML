{
  "nbformat": 4,
  "nbformat_minor": 0,
  "metadata": {
    "colab": {
      "name": "Untitled7.ipynb",
      "provenance": [],
      "collapsed_sections": [],
      "authorship_tag": "ABX9TyOedjQ64ES4ZySZjqudTPGO",
      "include_colab_link": true
    },
    "kernelspec": {
      "name": "python3",
      "display_name": "Python 3"
    }
  },
  "cells": [
    {
      "cell_type": "markdown",
      "metadata": {
        "id": "view-in-github",
        "colab_type": "text"
      },
      "source": [
        "<a href=\"https://colab.research.google.com/github/Rohanvasista/Applications-of-Python-in-DA-and-ML/blob/master/Day%202%20session%202%20exercises.ipynb\" target=\"_parent\"><img src=\"https://colab.research.google.com/assets/colab-badge.svg\" alt=\"Open In Colab\"/></a>"
      ]
    },
    {
      "cell_type": "code",
      "metadata": {
        "id": "bKDeS9xv_eO0",
        "colab_type": "code",
        "colab": {}
      },
      "source": [
        ""
      ],
      "execution_count": 0,
      "outputs": []
    },
    {
      "cell_type": "markdown",
      "metadata": {
        "id": "cB0Fp4RGFwie",
        "colab_type": "text"
      },
      "source": [
        "**DICTIONARY EXERCEXERCISES**"
      ]
    },
    {
      "cell_type": "markdown",
      "metadata": {
        "id": "3jv6YAkEAc0K",
        "colab_type": "text"
      },
      "source": [
        "1.\t**Add rollno and marks {name:mark} for n number of students through keyboard in a dictionary and print the marks in descending order with respective name.**"
      ]
    },
    {
      "cell_type": "code",
      "metadata": {
        "id": "rTcSn__EAesf",
        "colab_type": "code",
        "colab": {
          "base_uri": "https://localhost:8080/",
          "height": 134
        },
        "outputId": "5ddcde8d-d5fc-4879-dafb-2bfebe7094e5"
      },
      "source": [
        "\n",
        "n=int(input(\"Enter no of records\"))\n",
        "d={}\n",
        "import operator\n",
        "for i in range(1,n+1):\n",
        "  name= input(\"Enter name %d\"%(i))\n",
        "  mark=int(input(\"Enter mark %d\"%(i)))\n",
        "  d[name]=mark\n",
        "print(\"input: \",d)\n",
        "sorted_a= sorted(d.items(), key=operator.itemgetter(1),reverse=True)\n",
        "print(\"output: \",sorted_a)"
      ],
      "execution_count": 2,
      "outputs": [
        {
          "output_type": "stream",
          "text": [
            "Enter no of records2\n",
            "Enter name 1rohan\n",
            "Enter mark 190\n",
            "Enter name 2vasista\n",
            "Enter mark 295\n",
            "input:  {'rohan': 90, 'vasista': 95}\n",
            "output:  [('vasista', 95), ('rohan', 90)]\n"
          ],
          "name": "stdout"
        }
      ]
    },
    {
      "cell_type": "markdown",
      "metadata": {
        "id": "UH0PMjMhA8fC",
        "colab_type": "text"
      },
      "source": [
        "2.\t**Add  name and salary {name:salary} for n number of employees through keyboard in a dictionary and print them in name alphabetical order with salary**"
      ]
    },
    {
      "cell_type": "code",
      "metadata": {
        "id": "Wr3OYwyYBAuJ",
        "colab_type": "code",
        "colab": {
          "base_uri": "https://localhost:8080/",
          "height": 134
        },
        "outputId": "6e91fad5-a8f7-4d98-8457-06cbc004f07e"
      },
      "source": [
        "\n",
        "n=int(input(\"Enter no of records\"))\n",
        "d={}\n",
        "import operator\n",
        "for i in range(1,n+1):\n",
        "  name= input(\"Enter name %d\"%(i))\n",
        "  s=float(input(\"Enter salary %d\"%(i)))\n",
        "  d[name]=s\n",
        "print(\"input: \",d)\n",
        "sorted_a= sorted(d.items(), key=operator.itemgetter(0))\n",
        "print(\"output: \",sorted_a)"
      ],
      "execution_count": 3,
      "outputs": [
        {
          "output_type": "stream",
          "text": [
            "Enter no of records2\n",
            "Enter name 1rohan\n",
            "Enter salary 150000\n",
            "Enter name 2vasista\n",
            "Enter salary 245600\n",
            "input:  {'rohan': 50000.0, 'vasista': 45600.0}\n",
            "output:  [('rohan', 50000.0), ('vasista', 45600.0)]\n"
          ],
          "name": "stdout"
        }
      ]
    },
    {
      "cell_type": "markdown",
      "metadata": {
        "id": "FlecauVZBLjG",
        "colab_type": "text"
      },
      "source": [
        "3.\t**Add  name and salary {name:salary} for n number of employees through keyboard in a dictionary and print them in salary  ascending order and  sum, max, min and average of the salaries**"
      ]
    },
    {
      "cell_type": "code",
      "metadata": {
        "id": "aRubXoczBQNw",
        "colab_type": "code",
        "colab": {
          "base_uri": "https://localhost:8080/",
          "height": 202
        },
        "outputId": "91ff06b1-8320-41f0-c8cb-c1fe83ec04ca"
      },
      "source": [
        "\n",
        "n=int(input(\"Enter no of records\"))\n",
        "d={}\n",
        "import operator\n",
        "for i in range(1,n+1):\n",
        "  name= input(\"Enter name %d\"%(i))\n",
        "  s=float(input(\"Enter salary %d\"%(i)))\n",
        "  d[name]=s\n",
        "print(\"input: \",d)\n",
        "sorted_a= sorted(d.items(), key=operator.itemgetter(1))\n",
        "print(\"output: \",sorted_a)\n",
        "v = d.values()\n",
        "print(\"sum: \",sum(v))\n",
        "print(\"max: \",max(v))\n",
        "print(\"min: \",min(v))\n",
        "print(\"avg: \",(sum(v)/n))"
      ],
      "execution_count": 4,
      "outputs": [
        {
          "output_type": "stream",
          "text": [
            "Enter no of records2\n",
            "Enter name 1rohan\n",
            "Enter salary 150000\n",
            "Enter name 2vasista\n",
            "Enter salary 245000\n",
            "input:  {'rohan': 50000.0, 'vasista': 45000.0}\n",
            "output:  [('vasista', 45000.0), ('rohan', 50000.0)]\n",
            "sum:  95000.0\n",
            "max:  50000.0\n",
            "min:  45000.0\n",
            "avg:  47500.0\n"
          ],
          "name": "stdout"
        }
      ]
    },
    {
      "cell_type": "markdown",
      "metadata": {
        "id": "Q3qNJWq6BZoD",
        "colab_type": "text"
      },
      "source": [
        "4.\t**Add name and salary {name:salary} for n number of employees through keyboard in a dictionary and print only the employees whose salary is greater than 2000 but less than 4000**"
      ]
    },
    {
      "cell_type": "code",
      "metadata": {
        "id": "3IQ8qSBnBg9h",
        "colab_type": "code",
        "colab": {
          "base_uri": "https://localhost:8080/",
          "height": 151
        },
        "outputId": "e173700c-1499-49ee-c08d-b4613322c37e"
      },
      "source": [
        "n=int(input(\"Enter no of records\"))\n",
        "d={}\n",
        "import operator\n",
        "for i in range(1,n+1):\n",
        "  name= input(\"Enter name %d\"%(i))\n",
        "  s=int(input(\"Enter salary %d\"%(i)))\n",
        "  d[name]=s\n",
        "print(\"input: \",d)\n",
        "for key,value in d.items():\n",
        "    if value>=2000 and value<=4000:\n",
        "         print(d[key],\"=\",key)"
      ],
      "execution_count": 5,
      "outputs": [
        {
          "output_type": "stream",
          "text": [
            "Enter no of records2\n",
            "Enter name 1rohan\n",
            "Enter salary 12500\n",
            "Enter name 2vasista\n",
            "Enter salary 23700\n",
            "input:  {'rohan': 2500, 'vasista': 3700}\n",
            "2500 = rohan\n",
            "3700 = vasista\n"
          ],
          "name": "stdout"
        }
      ]
    },
    {
      "cell_type": "markdown",
      "metadata": {
        "id": "EbaxC1lMB2J2",
        "colab_type": "text"
      },
      "source": [
        "5.\t**Python program to convert a 3 digit number  into words**"
      ]
    },
    {
      "cell_type": "code",
      "metadata": {
        "id": "EjdwIPEQB6_V",
        "colab_type": "code",
        "colab": {
          "base_uri": "https://localhost:8080/",
          "height": 67
        },
        "outputId": "6e665933-165b-416e-c2a1-24e7472c1f68"
      },
      "source": [
        "def convert_to_words(num):  \n",
        "    l = len(num);    \n",
        "    if (l == 0): \n",
        "        print(\"empty string\"); \n",
        "        return; \n",
        "  \n",
        "    if (l > 4): \n",
        "        print(\"Length more than 4 is not supported\"); \n",
        "        return;   \n",
        "    single_digits = [\"zero\", \"one\", \"two\", \"three\",  \n",
        "                     \"four\", \"five\", \"six\", \"seven\",  \n",
        "                     \"eight\", \"nine\"];  \n",
        "    two_digits = [\"\", \"ten\", \"eleven\", \"twelve\",  \n",
        "                  \"thirteen\", \"fourteen\", \"fifteen\",  \n",
        "                  \"sixteen\", \"seventeen\", \"eighteen\", \n",
        "                  \"nineteen\"];  \n",
        "    tens_multiple = [\"\", \"\", \"twenty\", \"thirty\", \"forty\", \n",
        "                     \"fifty\", \"sixty\", \"seventy\", \"eighty\",  \n",
        "                     \"ninety\"]; \n",
        "    tens_power = [\"hundred\", \"thousand\"];   \n",
        "    print(num, \":\", end = \" \");   \n",
        "    if (l == 1):  \n",
        "        print(single_digits[ord(num[0]) - '0']); \n",
        "        return;  \n",
        "    x = 0; \n",
        "    while (x < len(num)):    \n",
        "        if (l >= 3): \n",
        "            if (ord(num[x]) - 48 != 0): \n",
        "                print(single_digits[ord(num[x]) - 48],  \n",
        "                                           end = \" \"); \n",
        "                print(tens_power[l - 3], end = \" \");  \n",
        "                  \n",
        "            l -= 1; \n",
        "        else:   \n",
        "            if (ord(num[x]) - 48 == 1):  \n",
        "                sum = (ord(num[x]) - 48 + \n",
        "                       ord(num[x]) - 48); \n",
        "                print(two_digits[sum]); \n",
        "                return;   \n",
        "            elif (ord(num[x]) - 48 == 2 and \n",
        "                  ord(num[x + 1]) - 48 == 0): \n",
        "                print(\"twenty\"); \n",
        "                return;  \n",
        "            else: \n",
        "                i = ord(num[x]) - 48; \n",
        "                if(i > 0): \n",
        "                    print(tens_multiple[i], end = \" \"); \n",
        "                else: \n",
        "                    print(\"\", end = \"\"); \n",
        "                x += 1; \n",
        "                if(ord(num[x]) - 48 != 0): \n",
        "                    print(single_digits[ord(num[x]) - 48]); \n",
        "        x += 1;  \n",
        "convert_to_words(\"923\"); \n",
        "convert_to_words(\"523\"); \n",
        "convert_to_words(\"898\");"
      ],
      "execution_count": 6,
      "outputs": [
        {
          "output_type": "stream",
          "text": [
            "923 : nine hundred twenty three\n",
            "523 : five hundred twenty three\n",
            "898 : eight hundred ninety eight\n"
          ],
          "name": "stdout"
        }
      ]
    },
    {
      "cell_type": "markdown",
      "metadata": {
        "id": "htT8SDX5CB6p",
        "colab_type": "text"
      },
      "source": [
        "**FILES EXERCISES** "
      ]
    },
    {
      "cell_type": "markdown",
      "metadata": {
        "id": "Atmgx7tDCzUl",
        "colab_type": "text"
      },
      "source": [
        "\n",
        "**Python Program to count the total number of charaters (except blank space) in a text file.**\n"
      ]
    },
    {
      "cell_type": "code",
      "metadata": {
        "id": "HxF4s-OBDxxb",
        "colab_type": "code",
        "colab": {
          "base_uri": "https://localhost:8080/",
          "height": 50
        },
        "outputId": "19327151-eb56-4566-f0ff-b41468e14ebd"
      },
      "source": [
        "input_file = input(\"Enter File name : \")\n",
        "file_txt = open(input_file)\t\t\n",
        "text = file_txt.read()\t\t\t\n",
        "charc = 0\t\n",
        "for i in text:\t\t\t\t\n",
        "\tif(i != \" \" and i != \"\\n\" ):\n",
        "\t\t charc += 1\n",
        " \n",
        "print (\"total num of characters: \",charc);"
      ],
      "execution_count": 9,
      "outputs": [
        {
          "output_type": "stream",
          "text": [
            "Enter File name : rohan.txt\n",
            "total num of characters:  175\n"
          ],
          "name": "stdout"
        }
      ]
    },
    {
      "cell_type": "markdown",
      "metadata": {
        "id": "TuLa19_tDRIr",
        "colab_type": "text"
      },
      "source": [
        "**Python Program to print all the numbers present in a text file with its total number of occurrence.**"
      ]
    },
    {
      "cell_type": "code",
      "metadata": {
        "id": "RtwhjNqlDWQ1",
        "colab_type": "code",
        "colab": {
          "base_uri": "https://localhost:8080/",
          "height": 50
        },
        "outputId": "5d093f17-a87d-401f-f5f9-01fcd1fc41ec"
      },
      "source": [
        "input_file = input(\"Enter File name : \")\n",
        "file_txt = open(input_file)\t\t\n",
        "text = file_txt.read()\t\n",
        "w = []\t\n",
        "d = dict() \n",
        "for line in text: \n",
        "    line = line.strip() \t\n",
        "    if(line.isdigit()):\n",
        "           w.append(line)\n",
        "for j in w:\n",
        "      if j in d:\n",
        "        d[j] = d[j] + 1\n",
        "      else: \n",
        "            d[j] = 1 \n",
        "for key in list(d.keys()): \n",
        "    print(key, \":\", d[key])"
      ],
      "execution_count": 10,
      "outputs": [
        {
          "output_type": "stream",
          "text": [
            "Enter File name : vas.txt\n",
            "1 : 2\n"
          ],
          "name": "stdout"
        }
      ]
    },
    {
      "cell_type": "markdown",
      "metadata": {
        "id": "qQXkQJ4aEQV2",
        "colab_type": "text"
      },
      "source": [
        "**Python Program to append the contents of one file to another file by getting the both file names through keyboard .**"
      ]
    },
    {
      "cell_type": "code",
      "metadata": {
        "id": "vHznkEgEEVzf",
        "colab_type": "code",
        "colab": {
          "base_uri": "https://localhost:8080/",
          "height": 50
        },
        "outputId": "67ae1072-6daa-4744-96ed-a7cd15777fba"
      },
      "source": [
        "name1 = input(\"Enter file to be read from: \")\n",
        "name2 = input(\"Enter file to be appended to: \")\n",
        "fin = open(name1, \"r\")\n",
        "data2 = fin.read()\n",
        "fin.close()\n",
        "fout = open(name2, \"a\")\n",
        "fout.write(data2)\n",
        "fout.close()"
      ],
      "execution_count": 11,
      "outputs": [
        {
          "output_type": "stream",
          "text": [
            "Enter file to be read from: rv.txt\n",
            "Enter file to be appended to: vas.txt\n"
          ],
          "name": "stdout"
        }
      ]
    },
    {
      "cell_type": "markdown",
      "metadata": {
        "id": "0_xL232TErmJ",
        "colab_type": "text"
      },
      "source": [
        "**Python Program to count the number of blank spaces in a text file.** "
      ]
    },
    {
      "cell_type": "code",
      "metadata": {
        "id": "ztk4PQkfEv1m",
        "colab_type": "code",
        "colab": {
          "base_uri": "https://localhost:8080/",
          "height": 67
        },
        "outputId": "81a71116-0386-4c45-b712-6418c686269c"
      },
      "source": [
        "fname = input(\"Enter file name: \")\n",
        "k = 0\n",
        " \n",
        "with open(fname, 'r') as f:\n",
        "    for line in f:\n",
        "        words = line.split()\n",
        "        for i in words:\n",
        "            for letter in i:\n",
        "                if(letter.isspace):\n",
        "                    k=k+1\n",
        "print(\"Occurrences of blank spaces:\")\n",
        "print(k)"
      ],
      "execution_count": 12,
      "outputs": [
        {
          "output_type": "stream",
          "text": [
            "Enter file name: py.txt\n",
            "Occurrences of blank spaces:\n",
            "175\n"
          ],
          "name": "stdout"
        }
      ]
    },
    {
      "cell_type": "markdown",
      "metadata": {
        "id": "M7bcPS-vFZUJ",
        "colab_type": "text"
      },
      "source": [
        "**Python Program to read a file and capitalize the first letter of every word in the file and copy the every word capitalized content  into another file and read it .**"
      ]
    },
    {
      "cell_type": "code",
      "metadata": {
        "id": "bJA-kBmmFcps",
        "colab_type": "code",
        "colab": {
          "base_uri": "https://localhost:8080/",
          "height": 454
        },
        "outputId": "d44aabef-91c9-409e-8270-1518ebaf6a16"
      },
      "source": [
        "\n",
        "fname = input(\"Enter file name: \")\n",
        "with open(fname, 'r') as f:\n",
        "  with open(\"out.txt\", \"w\") as f1:\n",
        "    for line in f:\n",
        "        l=line.title()\n",
        "        f1.write(l)\n",
        "file2=open(\"out.txt\",'r')\n",
        "line=file2.readline()\n",
        "while(line!=\"\"):\n",
        "    print(line)\n",
        "    line=file2.readline()\n",
        "file2.close()"
      ],
      "execution_count": 13,
      "outputs": [
        {
          "output_type": "stream",
          "text": [
            "Enter file name: rj.txt\n",
            "\n",
            "\n",
            "Fname = Input(\"Enter File Name: \")\n",
            "\n",
            "With Open(Fname, 'R') As F:\n",
            "\n",
            "  With Open(\"Out.Txt\", \"W\") As F1:\n",
            "\n",
            "    For Line In F:\n",
            "\n",
            "        L=Line.Title()\n",
            "\n",
            "        F1.Write(L)\n",
            "\n",
            "File2=Open(\"Out.Txt\",'R')\n",
            "\n",
            "Line=File2.Readline()\n",
            "\n",
            "While(Line!=\"\"):\n",
            "\n",
            "    Print(Line)\n",
            "\n",
            "    Line=File2.Readline()\n",
            "\n",
            "File2.Close()\n"
          ],
          "name": "stdout"
        }
      ]
    }
  ]
}