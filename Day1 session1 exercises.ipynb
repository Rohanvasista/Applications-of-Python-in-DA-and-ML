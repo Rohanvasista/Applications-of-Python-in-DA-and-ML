{
  "nbformat": 4,
  "nbformat_minor": 0,
  "metadata": {
    "colab": {
      "name": "Untitled2.ipynb",
      "provenance": [],
      "collapsed_sections": [],
      "authorship_tag": "ABX9TyOTob1z/ZT3yOumSOdDqRuh",
      "include_colab_link": true
    },
    "kernelspec": {
      "name": "python3",
      "display_name": "Python 3"
    }
  },
  "cells": [
    {
      "cell_type": "markdown",
      "metadata": {
        "id": "view-in-github",
        "colab_type": "text"
      },
      "source": [
        "<a href=\"https://colab.research.google.com/github/Rohanvasista/Applications-of-Python-in-DA-and-ML/blob/master/Day1%20session1%20exercises.ipynb\" target=\"_parent\"><img src=\"https://colab.research.google.com/assets/colab-badge.svg\" alt=\"Open In Colab\"/></a>"
      ]
    },
    {
      "cell_type": "code",
      "metadata": {
        "id": "1Usbr5zEtlwi",
        "colab_type": "code",
        "colab": {}
      },
      "source": [
        ""
      ],
      "execution_count": 0,
      "outputs": []
    },
    {
      "cell_type": "markdown",
      "metadata": {
        "id": "J0Qk1tRLt28s",
        "colab_type": "text"
      },
      "source": [
        "1.\t**Find the compound interest for the given p,n,r  (formula : p(1+n*r/100)n )**"
      ]
    },
    {
      "cell_type": "code",
      "metadata": {
        "id": "t4CgXsKDt442",
        "colab_type": "code",
        "colab": {
          "base_uri": "https://localhost:8080/",
          "height": 84
        },
        "outputId": "78d18fec-9791-4ef1-c55c-892a66f1884b"
      },
      "source": [
        "p=int(input(\"enter p : \"))\n",
        "n=int(input(\"enter n: \"))\n",
        "r=int(input(\"enter r: \"))\n",
        "CI = p * (pow((1 + r / 100), n))\n",
        "print(\"Compound interest is : %.2f \"%CI)"
      ],
      "execution_count": 1,
      "outputs": [
        {
          "output_type": "stream",
          "text": [
            "enter p : 1400\n",
            "enter n: 3\n",
            "enter r: 5\n",
            "Compound interest is : 1620.68 \n"
          ],
          "name": "stdout"
        }
      ]
    },
    {
      "cell_type": "markdown",
      "metadata": {
        "id": "EBA6Ilt3uJj1",
        "colab_type": "text"
      },
      "source": [
        "2.\t**Convert centegrade to farenheit  ( f= 9/5*c+32)**"
      ]
    },
    {
      "cell_type": "code",
      "metadata": {
        "id": "Lmf7g--0uSPf",
        "colab_type": "code",
        "colab": {
          "base_uri": "https://localhost:8080/",
          "height": 50
        },
        "outputId": "b2dc6307-43d0-4f68-c4f0-c00d2d872b05"
      },
      "source": [
        "c=float(input(\"Enter c :\"))\n",
        "f=9/5*c+32 \n",
        "print(\"value of f is :\",f)"
      ],
      "execution_count": 2,
      "outputs": [
        {
          "output_type": "stream",
          "text": [
            "Enter c :125.50\n",
            "value of f is : 257.9\n"
          ],
          "name": "stdout"
        }
      ]
    },
    {
      "cell_type": "markdown",
      "metadata": {
        "id": "mnMT_uguuaNm",
        "colab_type": "text"
      },
      "source": [
        "3.\t**Find the greater of two nos**"
      ]
    },
    {
      "cell_type": "code",
      "metadata": {
        "id": "XBRfYeAKugDl",
        "colab_type": "code",
        "colab": {
          "base_uri": "https://localhost:8080/",
          "height": 67
        },
        "outputId": "616c1861-201e-446a-f728-7e3d71e6cf90"
      },
      "source": [
        "a=int(input(\"Enter a :\"))\n",
        "b=int(input(\"Enter b :\"))\n",
        "if(a>b):\n",
        "  print(\"a is greater\",a)\n",
        "else:\n",
        "  print(\"b is greater\",b)"
      ],
      "execution_count": 3,
      "outputs": [
        {
          "output_type": "stream",
          "text": [
            "Enter a :10\n",
            "Enter b :5\n",
            "a is greater 10\n"
          ],
          "name": "stdout"
        }
      ]
    },
    {
      "cell_type": "markdown",
      "metadata": {
        "id": "JWiitrCsumiS",
        "colab_type": "text"
      },
      "source": [
        "4.\t**Write a program for finding surface areas of cylinder and cone (2*PI*r*r*h, 1/3*PI*r*r*h) using function.**"
      ]
    },
    {
      "cell_type": "code",
      "metadata": {
        "id": "FhqnGHGNurzi",
        "colab_type": "code",
        "colab": {
          "base_uri": "https://localhost:8080/",
          "height": 84
        },
        "outputId": "0a531bde-9758-4c59-c2df-00932bdb296e"
      },
      "source": [
        "import math\n",
        "def cylinder(r,h):\n",
        "  areacy=2*math.pi*r*r*h\n",
        "  return areacy\n",
        "def cone(r,h):\n",
        "  areacone=1/3*math.pi*r*r*h\n",
        "  return areacone\n",
        "r=int(input(\"Enter r \"))\n",
        "h=int(input(\"Enter h \"))\n",
        "print(\"ARea of cylinder is : %.2f\"%cylinder(r,h))\n",
        "print(\"Area of cone : %.2f\"%cone(r,h))"
      ],
      "execution_count": 4,
      "outputs": [
        {
          "output_type": "stream",
          "text": [
            "Enter r 15\n",
            "Enter h 20\n",
            "ARea of cylinder is : 28274.33\n",
            "Area of cone : 4712.39\n"
          ],
          "name": "stdout"
        }
      ]
    },
    {
      "cell_type": "markdown",
      "metadata": {
        "id": "2SPC0waZuzw7",
        "colab_type": "text"
      },
      "source": [
        "5.\t**Find the greatest of four nos ( using ‘and’ operator)   using function.**"
      ]
    },
    {
      "cell_type": "code",
      "metadata": {
        "id": "c-j1EQJhu4EC",
        "colab_type": "code",
        "colab": {
          "base_uri": "https://localhost:8080/",
          "height": 101
        },
        "outputId": "9b65ac6f-1a35-467d-ca15-36be5cef272b"
      },
      "source": [
        "def great(a,b,c,d):\n",
        "  if(a>b) and (a>c) and (a>d):\n",
        "    return a\n",
        "  elif(b>a) and (b>c) and (b>d):\n",
        "    return b\n",
        "  elif(c>a) and (c>b) and (c>d):\n",
        "    return c\n",
        "  else:\n",
        "    return d\n",
        "a=int(input(\"enter values a \"))\n",
        "b=int(input(\"enter values b \"))\n",
        "c=int(input(\"enter values c \"))\n",
        "d=int(input(\"enter values d \"))\n",
        "print(\"greater number is \",great(a,b,c,d))"
      ],
      "execution_count": 6,
      "outputs": [
        {
          "output_type": "stream",
          "text": [
            "enter values a 23\n",
            "enter values b 56\n",
            "enter values c 79\n",
            "enter values d 21\n",
            "greater number is  79\n"
          ],
          "name": "stdout"
        }
      ]
    },
    {
      "cell_type": "markdown",
      "metadata": {
        "id": "iJJ-mB09vGda",
        "colab_type": "text"
      },
      "source": [
        "6.\t**Write a  menu program to perform the operations ( ODDorEven, Factorial, ODDNoUptoN, PrimeUptoN ) using functions for two nos with  menu choice**"
      ]
    },
    {
      "cell_type": "code",
      "metadata": {
        "id": "j_ZCBC7-vMYB",
        "colab_type": "code",
        "colab": {
          "base_uri": "https://localhost:8080/",
          "height": 655
        },
        "outputId": "2d57e54d-9299-4974-ddf8-11fc478668f8"
      },
      "source": [
        "loop = 1\n",
        "choice = 0\n",
        "\n",
        "def oddoreven(a):\n",
        "  if(a%2==0):\n",
        "    print(\"even\")\n",
        "  else:\n",
        "    print(\"odd\")\n",
        "def fact(num):\n",
        "  factorial=1 \n",
        "  if  num  <  0:\n",
        "    print(\"Sorry, factorial does not exist for negative numbers\") \n",
        "  elif  num  ==  0:\n",
        "    print(\"The factorial of 0 is 1\") \n",
        "  else:\n",
        "    for i in range(1,num + 1): \n",
        "      factorial = factorial*i\n",
        "    print(\"The factorial of\",num,\"is\",factorial) \n",
        "def odd(n):\n",
        "  print(\"odd numbers: \");\n",
        "  for i in range(1,n+1):\n",
        "    if(i%2!=0):\n",
        "      print(i) \n",
        "def  prime(l,h):\n",
        "  print(\"prime numbers: \")\n",
        "  for num in range(l,h + 1): \n",
        "    if  num  >  1:\n",
        "      for i in range(2,num):\n",
        "        if  (num  %  i)  ==  0:\n",
        "          break\n",
        "      else:\n",
        "        print(num)\n",
        "\n",
        "while  loop  ==  1:\n",
        "  print (\"Welcome\")\n",
        "  print (\"your options are:\")\n",
        "  print (\"\")\n",
        "  print(\"1) odd or even\")\n",
        "  print(\"2) factorial\")\n",
        "  print(\"3) odd upto n\")\n",
        "  print(\"4) prime upto n\") \n",
        "  print(\"5) Quit \")\n",
        "  print(\"\") \n",
        "  try:\n",
        "    choice = int(input(\"Choose your option: \")) \n",
        "  except:\n",
        "    print('please enter a valid number for option')\n",
        "    print(\"\")\n",
        "  print(\"\")\n",
        "  if  choice  ==  1:\n",
        "    x  = int(input(\" Enter\tno: \"))\n",
        "    oddoreven(x)\n",
        "  elif  choice  ==  2:\n",
        "    x = int(input(\"Enter\tno: \")) \n",
        "    fact(x)\n",
        "  elif  choice  ==  3:\n",
        "    x = int(input(\"Enter range: \"))\n",
        "    odd(x)\n",
        "  elif  choice  ==  4:\n",
        "    x = int(input(\"Enter lower range: \"))  \n",
        "    y = int(input(\"Enter upper range: \")) \n",
        "    prime(x,y)\n",
        "  elif  choice  ==  5: \n",
        "    loop = 0\n",
        "  else:\n",
        "    print(\"please choice a valid option from 1 to 5\") \n",
        "    choice=0\n",
        "print (\"Thank-you \")"
      ],
      "execution_count": 7,
      "outputs": [
        {
          "output_type": "stream",
          "text": [
            "Welcome\n",
            "your options are:\n",
            "\n",
            "1) odd or even\n",
            "2) factorial\n",
            "3) odd upto n\n",
            "4) prime upto n\n",
            "5) Quit \n",
            "\n",
            "Choose your option: 1\n",
            "\n",
            " Enter\tno: 4\n",
            "even\n",
            "Welcome\n",
            "your options are:\n",
            "\n",
            "1) odd or even\n",
            "2) factorial\n",
            "3) odd upto n\n",
            "4) prime upto n\n",
            "5) Quit \n",
            "\n",
            "Choose your option: 2\n",
            "\n",
            "Enter\tno: 5\n",
            "The factorial of 5 is 120\n",
            "Welcome\n",
            "your options are:\n",
            "\n",
            "1) odd or even\n",
            "2) factorial\n",
            "3) odd upto n\n",
            "4) prime upto n\n",
            "5) Quit \n",
            "\n",
            "Choose your option: 5\n",
            "\n",
            "Thank-you \n"
          ],
          "name": "stdout"
        }
      ]
    }
  ]
}